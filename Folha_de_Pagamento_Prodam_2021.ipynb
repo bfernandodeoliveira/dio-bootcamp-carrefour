{
  "nbformat": 4,
  "nbformat_minor": 0,
  "metadata": {
    "colab": {
      "name": "Folha de Pagamento Prodam 2021.ipynb",
      "provenance": []
    },
    "kernelspec": {
      "name": "python3",
      "display_name": "Python 3"
    },
    "language_info": {
      "name": "python"
    }
  },
  "cells": [
    {
      "cell_type": "code",
      "metadata": {
        "id": "3YuKCFT8ihRN"
      },
      "source": [
        "#importando a biblioteca pandas no notebook\n",
        "import pandas as pd"
      ],
      "execution_count": 2,
      "outputs": []
    },
    {
      "cell_type": "code",
      "metadata": {
        "id": "beH_gpLPlmGc"
      },
      "source": [
        "# lendo Folha de Pagamento da Empresa de Tecnologia da Prefeitura de São Paulo do primeiro semestre de 2021\n",
        "# fonte: http://dados.prefeitura.sp.gov.br/dataset/folha-de-pagamento-prodam\n",
        "df = pd.read_excel(\"/content/drive/MyDrive/Projeto_Python_Pandas/prodam.xlsx\")"
      ],
      "execution_count": 63,
      "outputs": []
    },
    {
      "cell_type": "code",
      "metadata": {
        "colab": {
          "base_uri": "https://localhost:8080/"
        },
        "id": "3ifScqJ4m2qH",
        "outputId": "fda728bf-c3c4-4f3f-842b-a9c76f23f372"
      },
      "source": [
        "#verificando os tipos de dados\n",
        "df.dtypes"
      ],
      "execution_count": 64,
      "outputs": [
        {
          "output_type": "execute_result",
          "data": {
            "text/plain": [
              "EMPRESA                    object\n",
              "MÊS                         int64\n",
              "ANO                         int64\n",
              "NOME                       object\n",
              "CARGO                      object\n",
              "LOTAÇÃO                    object\n",
              "ADMISSÃO           datetime64[ns]\n",
              "NASCIMENTO                  int64\n",
              "VENCIMENTOS               float64\n",
              "ENCARGOS                  float64\n",
              "BENEFÍCIOS                float64\n",
              "VÍNCULO                    object\n",
              "DETALHE VÍNCULO            object\n",
              "dtype: object"
            ]
          },
          "metadata": {},
          "execution_count": 64
        }
      ]
    },
    {
      "cell_type": "code",
      "metadata": {
        "colab": {
          "base_uri": "https://localhost:8080/",
          "height": 222
        },
        "id": "4EcK-a1vgwY9",
        "outputId": "75d652fd-f32a-449e-982e-73ce523e4fb0"
      },
      "source": [
        "df.sample(1)"
      ],
      "execution_count": 65,
      "outputs": [
        {
          "output_type": "execute_result",
          "data": {
            "text/html": [
              "<div>\n",
              "<style scoped>\n",
              "    .dataframe tbody tr th:only-of-type {\n",
              "        vertical-align: middle;\n",
              "    }\n",
              "\n",
              "    .dataframe tbody tr th {\n",
              "        vertical-align: top;\n",
              "    }\n",
              "\n",
              "    .dataframe thead th {\n",
              "        text-align: right;\n",
              "    }\n",
              "</style>\n",
              "<table border=\"1\" class=\"dataframe\">\n",
              "  <thead>\n",
              "    <tr style=\"text-align: right;\">\n",
              "      <th></th>\n",
              "      <th>EMPRESA</th>\n",
              "      <th>MÊS</th>\n",
              "      <th>ANO</th>\n",
              "      <th>NOME</th>\n",
              "      <th>CARGO</th>\n",
              "      <th>LOTAÇÃO</th>\n",
              "      <th>ADMISSÃO</th>\n",
              "      <th>NASCIMENTO</th>\n",
              "      <th>VENCIMENTOS</th>\n",
              "      <th>ENCARGOS</th>\n",
              "      <th>BENEFÍCIOS</th>\n",
              "      <th>VÍNCULO</th>\n",
              "      <th>DETALHE VÍNCULO</th>\n",
              "    </tr>\n",
              "  </thead>\n",
              "  <tbody>\n",
              "    <tr>\n",
              "      <th>4290</th>\n",
              "      <td>PRODAM</td>\n",
              "      <td>5</td>\n",
              "      <td>2021</td>\n",
              "      <td>ROGERIO VILELA DE PAULO</td>\n",
              "      <td>COORDENADOR DE NÚCLEO V</td>\n",
              "      <td>GDF-NPE-NÚCLEO PLANEJ EXEC ORÇAM FINANC</td>\n",
              "      <td>2010-04-01</td>\n",
              "      <td>1963</td>\n",
              "      <td>18502.56</td>\n",
              "      <td>2742.07</td>\n",
              "      <td>3255.24</td>\n",
              "      <td>CLT: contrato por tempo indeterminado</td>\n",
              "      <td>Não concursado ocupante de cargo em comissão</td>\n",
              "    </tr>\n",
              "  </tbody>\n",
              "</table>\n",
              "</div>"
            ],
            "text/plain": [
              "     EMPRESA  ...                               DETALHE VÍNCULO\n",
              "4290  PRODAM  ...  Não concursado ocupante de cargo em comissão\n",
              "\n",
              "[1 rows x 13 columns]"
            ]
          },
          "metadata": {},
          "execution_count": 65
        }
      ]
    },
    {
      "cell_type": "code",
      "metadata": {
        "colab": {
          "base_uri": "https://localhost:8080/"
        },
        "id": "Ir80SEABsSZJ",
        "outputId": "35a3ac2b-da98-4fac-d996-1e1007255551"
      },
      "source": [
        "#TOTAL DE VENCIMENTOS POR MES\n",
        "df.groupby(\"MÊS\")[\"VENCIMENTOS\"].sum()"
      ],
      "execution_count": 67,
      "outputs": [
        {
          "output_type": "execute_result",
          "data": {
            "text/plain": [
              "MÊS\n",
              "1    11671240.74\n",
              "2    11127785.52\n",
              "3    11435162.19\n",
              "4    12377940.31\n",
              "5    11104063.13\n",
              "6    13034984.89\n",
              "Name: VENCIMENTOS, dtype: float64"
            ]
          },
          "metadata": {},
          "execution_count": 67
        }
      ]
    },
    {
      "cell_type": "code",
      "metadata": {
        "colab": {
          "base_uri": "https://localhost:8080/"
        },
        "id": "Ssx6RvcpirZ_",
        "outputId": "4d095667-27ad-4c17-e113-187420c15899"
      },
      "source": [
        "#Consultando linhas com valores nulos\n",
        "df.isnull().sum()"
      ],
      "execution_count": 68,
      "outputs": [
        {
          "output_type": "execute_result",
          "data": {
            "text/plain": [
              "EMPRESA            0\n",
              "MÊS                0\n",
              "ANO                0\n",
              "NOME               0\n",
              "CARGO              0\n",
              "LOTAÇÃO            0\n",
              "ADMISSÃO           0\n",
              "NASCIMENTO         0\n",
              "VENCIMENTOS        0\n",
              "ENCARGOS           0\n",
              "BENEFÍCIOS         0\n",
              "VÍNCULO            0\n",
              "DETALHE VÍNCULO    0\n",
              "dtype: int64"
            ]
          },
          "metadata": {},
          "execution_count": 68
        }
      ]
    },
    {
      "cell_type": "code",
      "metadata": {
        "colab": {
          "base_uri": "https://localhost:8080/"
        },
        "id": "eALVmR04x9Th",
        "outputId": "62c0041e-f38e-4312-ac5a-894d0bcebb32"
      },
      "source": [
        "df[\"VENCIMENTOS\"].max()"
      ],
      "execution_count": 72,
      "outputs": [
        {
          "output_type": "execute_result",
          "data": {
            "text/plain": [
              "470391.46"
            ]
          },
          "metadata": {},
          "execution_count": 72
        }
      ]
    },
    {
      "cell_type": "code",
      "metadata": {
        "colab": {
          "base_uri": "https://localhost:8080/",
          "height": 441
        },
        "id": "KxLdkcFkt327",
        "outputId": "4b82b977-5ef0-4b17-baa1-6d7fa21b50d2"
      },
      "source": [
        "#top 3 receitas\n",
        "df.nlargest(3, \"VENCIMENTOS\")"
      ],
      "execution_count": 73,
      "outputs": [
        {
          "output_type": "execute_result",
          "data": {
            "text/html": [
              "<div>\n",
              "<style scoped>\n",
              "    .dataframe tbody tr th:only-of-type {\n",
              "        vertical-align: middle;\n",
              "    }\n",
              "\n",
              "    .dataframe tbody tr th {\n",
              "        vertical-align: top;\n",
              "    }\n",
              "\n",
              "    .dataframe thead th {\n",
              "        text-align: right;\n",
              "    }\n",
              "</style>\n",
              "<table border=\"1\" class=\"dataframe\">\n",
              "  <thead>\n",
              "    <tr style=\"text-align: right;\">\n",
              "      <th></th>\n",
              "      <th>EMPRESA</th>\n",
              "      <th>MÊS</th>\n",
              "      <th>ANO</th>\n",
              "      <th>NOME</th>\n",
              "      <th>CARGO</th>\n",
              "      <th>LOTAÇÃO</th>\n",
              "      <th>ADMISSÃO</th>\n",
              "      <th>NASCIMENTO</th>\n",
              "      <th>VENCIMENTOS</th>\n",
              "      <th>ENCARGOS</th>\n",
              "      <th>BENEFÍCIOS</th>\n",
              "      <th>VÍNCULO</th>\n",
              "      <th>DETALHE VÍNCULO</th>\n",
              "    </tr>\n",
              "  </thead>\n",
              "  <tbody>\n",
              "    <tr>\n",
              "      <th>3190</th>\n",
              "      <td>PRODAM</td>\n",
              "      <td>4</td>\n",
              "      <td>2021</td>\n",
              "      <td>ARNALDO TAVARES COUTINHO</td>\n",
              "      <td>ANALISTA DE TIC</td>\n",
              "      <td>GDF-NTI NUCLEO TRIBUTOS IMOBILIARIOS</td>\n",
              "      <td>1974-03-18</td>\n",
              "      <td>1943</td>\n",
              "      <td>470391.46</td>\n",
              "      <td>1263.60</td>\n",
              "      <td>83.09</td>\n",
              "      <td>Desligado</td>\n",
              "      <td>Concursado NÃO ocupante de cargo em comissão</td>\n",
              "    </tr>\n",
              "    <tr>\n",
              "      <th>1550</th>\n",
              "      <td>PRODAM</td>\n",
              "      <td>2</td>\n",
              "      <td>2021</td>\n",
              "      <td>NATALIE LAVEZ</td>\n",
              "      <td>ASSESSOR DIRETORIA X</td>\n",
              "      <td>GAB-NNS -  NÚCLEO DE DATA ANALYTICS</td>\n",
              "      <td>2017-01-17</td>\n",
              "      <td>1985</td>\n",
              "      <td>77341.96</td>\n",
              "      <td>1290.79</td>\n",
              "      <td>1859.51</td>\n",
              "      <td>Desligado</td>\n",
              "      <td>Não concursado ocupante de cargo em comissão</td>\n",
              "    </tr>\n",
              "    <tr>\n",
              "      <th>657</th>\n",
              "      <td>PRODAM</td>\n",
              "      <td>1</td>\n",
              "      <td>2021</td>\n",
              "      <td>OSCAR DE AZEVEDO NOLF</td>\n",
              "      <td>ANALISTA DE TIC</td>\n",
              "      <td>PSA-D -DISPOSIÇÃO</td>\n",
              "      <td>1977-01-18</td>\n",
              "      <td>1950</td>\n",
              "      <td>74177.08</td>\n",
              "      <td>263.33</td>\n",
              "      <td>58.30</td>\n",
              "      <td>Desligado</td>\n",
              "      <td>Concursado NÃO ocupante de cargo em comissão</td>\n",
              "    </tr>\n",
              "  </tbody>\n",
              "</table>\n",
              "</div>"
            ],
            "text/plain": [
              "     EMPRESA  MÊS  ...    VÍNCULO                               DETALHE VÍNCULO\n",
              "3190  PRODAM    4  ...  Desligado  Concursado NÃO ocupante de cargo em comissão\n",
              "1550  PRODAM    2  ...  Desligado  Não concursado ocupante de cargo em comissão\n",
              "657   PRODAM    1  ...  Desligado  Concursado NÃO ocupante de cargo em comissão\n",
              "\n",
              "[3 rows x 13 columns]"
            ]
          },
          "metadata": {},
          "execution_count": 73
        }
      ]
    },
    {
      "cell_type": "code",
      "metadata": {
        "colab": {
          "base_uri": "https://localhost:8080/",
          "height": 441
        },
        "id": "q4KXbMf46JIl",
        "outputId": "3c87987e-8d7c-42c8-a067-450d5e2af0bc"
      },
      "source": [
        "# 3 piores vencimentos\n",
        "df.nsmallest(3, \"VENCIMENTOS\")"
      ],
      "execution_count": 81,
      "outputs": [
        {
          "output_type": "execute_result",
          "data": {
            "text/html": [
              "<div>\n",
              "<style scoped>\n",
              "    .dataframe tbody tr th:only-of-type {\n",
              "        vertical-align: middle;\n",
              "    }\n",
              "\n",
              "    .dataframe tbody tr th {\n",
              "        vertical-align: top;\n",
              "    }\n",
              "\n",
              "    .dataframe thead th {\n",
              "        text-align: right;\n",
              "    }\n",
              "</style>\n",
              "<table border=\"1\" class=\"dataframe\">\n",
              "  <thead>\n",
              "    <tr style=\"text-align: right;\">\n",
              "      <th></th>\n",
              "      <th>EMPRESA</th>\n",
              "      <th>MÊS</th>\n",
              "      <th>ANO</th>\n",
              "      <th>NOME</th>\n",
              "      <th>CARGO</th>\n",
              "      <th>LOTAÇÃO</th>\n",
              "      <th>ADMISSÃO</th>\n",
              "      <th>NASCIMENTO</th>\n",
              "      <th>VENCIMENTOS</th>\n",
              "      <th>ENCARGOS</th>\n",
              "      <th>BENEFÍCIOS</th>\n",
              "      <th>VÍNCULO</th>\n",
              "      <th>DETALHE VÍNCULO</th>\n",
              "    </tr>\n",
              "  </thead>\n",
              "  <tbody>\n",
              "    <tr>\n",
              "      <th>432</th>\n",
              "      <td>PRODAM</td>\n",
              "      <td>1</td>\n",
              "      <td>2021</td>\n",
              "      <td>JULIO CESAR DOS SANTOS</td>\n",
              "      <td>COORDENADOR DE PROCESSOS VI</td>\n",
              "      <td>PSA-IL-INATIVOS E LICENCIADOS</td>\n",
              "      <td>2017-06-07</td>\n",
              "      <td>1959</td>\n",
              "      <td>0.0</td>\n",
              "      <td>0.0</td>\n",
              "      <td>489.87</td>\n",
              "      <td>CLT: contrato por tempo indeterminado</td>\n",
              "      <td>Não concursado ocupante de cargo em comissão</td>\n",
              "    </tr>\n",
              "    <tr>\n",
              "      <th>1239</th>\n",
              "      <td>PRODAM</td>\n",
              "      <td>2</td>\n",
              "      <td>2021</td>\n",
              "      <td>JULIO CESAR DOS SANTOS</td>\n",
              "      <td>COORDENADOR DE PROCESSOS VI</td>\n",
              "      <td>PSA-IL-INATIVOS E LICENCIADOS</td>\n",
              "      <td>2017-06-07</td>\n",
              "      <td>1959</td>\n",
              "      <td>0.0</td>\n",
              "      <td>0.0</td>\n",
              "      <td>1450.35</td>\n",
              "      <td>CLT: contrato por tempo indeterminado</td>\n",
              "      <td>Não concursado ocupante de cargo em comissão</td>\n",
              "    </tr>\n",
              "    <tr>\n",
              "      <th>2021</th>\n",
              "      <td>PRODAM</td>\n",
              "      <td>3</td>\n",
              "      <td>2021</td>\n",
              "      <td>JULIO CESAR DOS SANTOS</td>\n",
              "      <td>COORDENADOR DE PROCESSOS VI</td>\n",
              "      <td>PSA-IL-INATIVOS E LICENCIADOS</td>\n",
              "      <td>2017-06-07</td>\n",
              "      <td>1959</td>\n",
              "      <td>0.0</td>\n",
              "      <td>0.0</td>\n",
              "      <td>489.87</td>\n",
              "      <td>CLT: contrato por tempo indeterminado</td>\n",
              "      <td>Não concursado ocupante de cargo em comissão</td>\n",
              "    </tr>\n",
              "  </tbody>\n",
              "</table>\n",
              "</div>"
            ],
            "text/plain": [
              "     EMPRESA  ...                               DETALHE VÍNCULO\n",
              "432   PRODAM  ...  Não concursado ocupante de cargo em comissão\n",
              "1239  PRODAM  ...  Não concursado ocupante de cargo em comissão\n",
              "2021  PRODAM  ...  Não concursado ocupante de cargo em comissão\n",
              "\n",
              "[3 rows x 13 columns]"
            ]
          },
          "metadata": {},
          "execution_count": 81
        }
      ]
    },
    {
      "cell_type": "code",
      "metadata": {
        "colab": {
          "base_uri": "https://localhost:8080/",
          "height": 1000
        },
        "id": "4_lDBlsk-rgU",
        "outputId": "c0d88c3b-a881-4ea8-b593-82fe14967d41"
      },
      "source": [
        "#Ordenando o conjunto de dados\n",
        "df.sort_values(\"VENCIMENTOS\", ascending=False).head(10)"
      ],
      "execution_count": 82,
      "outputs": [
        {
          "output_type": "execute_result",
          "data": {
            "text/html": [
              "<div>\n",
              "<style scoped>\n",
              "    .dataframe tbody tr th:only-of-type {\n",
              "        vertical-align: middle;\n",
              "    }\n",
              "\n",
              "    .dataframe tbody tr th {\n",
              "        vertical-align: top;\n",
              "    }\n",
              "\n",
              "    .dataframe thead th {\n",
              "        text-align: right;\n",
              "    }\n",
              "</style>\n",
              "<table border=\"1\" class=\"dataframe\">\n",
              "  <thead>\n",
              "    <tr style=\"text-align: right;\">\n",
              "      <th></th>\n",
              "      <th>EMPRESA</th>\n",
              "      <th>MÊS</th>\n",
              "      <th>ANO</th>\n",
              "      <th>NOME</th>\n",
              "      <th>CARGO</th>\n",
              "      <th>LOTAÇÃO</th>\n",
              "      <th>ADMISSÃO</th>\n",
              "      <th>NASCIMENTO</th>\n",
              "      <th>VENCIMENTOS</th>\n",
              "      <th>ENCARGOS</th>\n",
              "      <th>BENEFÍCIOS</th>\n",
              "      <th>VÍNCULO</th>\n",
              "      <th>DETALHE VÍNCULO</th>\n",
              "    </tr>\n",
              "  </thead>\n",
              "  <tbody>\n",
              "    <tr>\n",
              "      <th>3190</th>\n",
              "      <td>PRODAM</td>\n",
              "      <td>4</td>\n",
              "      <td>2021</td>\n",
              "      <td>ARNALDO TAVARES COUTINHO</td>\n",
              "      <td>ANALISTA DE TIC</td>\n",
              "      <td>GDF-NTI NUCLEO TRIBUTOS IMOBILIARIOS</td>\n",
              "      <td>1974-03-18</td>\n",
              "      <td>1943</td>\n",
              "      <td>470391.46</td>\n",
              "      <td>1263.60</td>\n",
              "      <td>83.09</td>\n",
              "      <td>Desligado</td>\n",
              "      <td>Concursado NÃO ocupante de cargo em comissão</td>\n",
              "    </tr>\n",
              "    <tr>\n",
              "      <th>1550</th>\n",
              "      <td>PRODAM</td>\n",
              "      <td>2</td>\n",
              "      <td>2021</td>\n",
              "      <td>NATALIE LAVEZ</td>\n",
              "      <td>ASSESSOR DIRETORIA X</td>\n",
              "      <td>GAB-NNS -  NÚCLEO DE DATA ANALYTICS</td>\n",
              "      <td>2017-01-17</td>\n",
              "      <td>1985</td>\n",
              "      <td>77341.96</td>\n",
              "      <td>1290.79</td>\n",
              "      <td>1859.51</td>\n",
              "      <td>Desligado</td>\n",
              "      <td>Não concursado ocupante de cargo em comissão</td>\n",
              "    </tr>\n",
              "    <tr>\n",
              "      <th>657</th>\n",
              "      <td>PRODAM</td>\n",
              "      <td>1</td>\n",
              "      <td>2021</td>\n",
              "      <td>OSCAR DE AZEVEDO NOLF</td>\n",
              "      <td>ANALISTA DE TIC</td>\n",
              "      <td>PSA-D -DISPOSIÇÃO</td>\n",
              "      <td>1977-01-18</td>\n",
              "      <td>1950</td>\n",
              "      <td>74177.08</td>\n",
              "      <td>263.33</td>\n",
              "      <td>58.30</td>\n",
              "      <td>Desligado</td>\n",
              "      <td>Concursado NÃO ocupante de cargo em comissão</td>\n",
              "    </tr>\n",
              "    <tr>\n",
              "      <th>5223</th>\n",
              "      <td>PRODAM</td>\n",
              "      <td>6</td>\n",
              "      <td>2021</td>\n",
              "      <td>SERGIO PINTO BOLLIGER</td>\n",
              "      <td>COORDENADOR DE NÚCLEO V</td>\n",
              "      <td>GDD-NISP NUCLEO EM INOVAÇÃO SERV PUBLICO</td>\n",
              "      <td>2017-03-02</td>\n",
              "      <td>1955</td>\n",
              "      <td>59817.37</td>\n",
              "      <td>1529.83</td>\n",
              "      <td>769.04</td>\n",
              "      <td>Desligado</td>\n",
              "      <td>Não concursado ocupante de cargo em comissão</td>\n",
              "    </tr>\n",
              "    <tr>\n",
              "      <th>1733</th>\n",
              "      <td>PRODAM</td>\n",
              "      <td>2</td>\n",
              "      <td>2021</td>\n",
              "      <td>TIAGO EZIQUIEL CORREA</td>\n",
              "      <td>ANALISTA DE TIC</td>\n",
              "      <td>GDF/NDF-NUCLEO DECLAR FISCAIS MOBILIARI</td>\n",
              "      <td>2008-09-03</td>\n",
              "      <td>1980</td>\n",
              "      <td>59099.55</td>\n",
              "      <td>191.90</td>\n",
              "      <td>0.00</td>\n",
              "      <td>Desligado</td>\n",
              "      <td>Concursado NÃO ocupante de cargo em comissão</td>\n",
              "    </tr>\n",
              "    <tr>\n",
              "      <th>4220</th>\n",
              "      <td>PRODAM</td>\n",
              "      <td>5</td>\n",
              "      <td>2021</td>\n",
              "      <td>PAULO ROGERIO TAVARES</td>\n",
              "      <td>ANALISTA DE TIC</td>\n",
              "      <td>GDH-GERÊNCIA DESENVOLV E OPER.DES.HUMANO</td>\n",
              "      <td>1975-07-14</td>\n",
              "      <td>1955</td>\n",
              "      <td>58462.49</td>\n",
              "      <td>5729.50</td>\n",
              "      <td>4618.14</td>\n",
              "      <td>CLT: contrato por tempo indeterminado</td>\n",
              "      <td>Concursado ocupante de cargo em comissão</td>\n",
              "    </tr>\n",
              "    <tr>\n",
              "      <th>512</th>\n",
              "      <td>PRODAM</td>\n",
              "      <td>1</td>\n",
              "      <td>2021</td>\n",
              "      <td>ADRIANO MESQUITA DO AMARAL</td>\n",
              "      <td>COORDENADOR DE NÚCLEO IV</td>\n",
              "      <td>GDI-NSMGI NUCLEO TEC SIST MONIT GESTAO I</td>\n",
              "      <td>2017-06-06</td>\n",
              "      <td>1974</td>\n",
              "      <td>54489.75</td>\n",
              "      <td>1077.55</td>\n",
              "      <td>2579.03</td>\n",
              "      <td>Desligado</td>\n",
              "      <td>Não concursado ocupante de cargo em comissão</td>\n",
              "    </tr>\n",
              "    <tr>\n",
              "      <th>4429</th>\n",
              "      <td>PRODAM</td>\n",
              "      <td>6</td>\n",
              "      <td>2021</td>\n",
              "      <td>ADALBERTO MINGUETE DA SILVA</td>\n",
              "      <td>ANALISTA DE TIC</td>\n",
              "      <td>GDZ-NAGU NUCLEO ATENDIMENTO GESTAO URBAN</td>\n",
              "      <td>1978-07-31</td>\n",
              "      <td>1958</td>\n",
              "      <td>54148.72</td>\n",
              "      <td>5345.49</td>\n",
              "      <td>3502.19</td>\n",
              "      <td>CLT: contrato por tempo indeterminado</td>\n",
              "      <td>Concursado ocupante de cargo em comissão</td>\n",
              "    </tr>\n",
              "    <tr>\n",
              "      <th>3896</th>\n",
              "      <td>PRODAM</td>\n",
              "      <td>5</td>\n",
              "      <td>2021</td>\n",
              "      <td>GUILHERME GERALDO KESSEL</td>\n",
              "      <td>GERENTE DE PROJETOS V</td>\n",
              "      <td>GPC - GERÊNCIA DE COMUNICAÇÃO INSTITUCIO</td>\n",
              "      <td>2019-07-02</td>\n",
              "      <td>1972</td>\n",
              "      <td>53638.60</td>\n",
              "      <td>3563.12</td>\n",
              "      <td>8040.40</td>\n",
              "      <td>CLT: contrato por tempo indeterminado</td>\n",
              "      <td>Não concursado ocupante de cargo em comissão</td>\n",
              "    </tr>\n",
              "    <tr>\n",
              "      <th>1021</th>\n",
              "      <td>PRODAM</td>\n",
              "      <td>2</td>\n",
              "      <td>2021</td>\n",
              "      <td>EDISON ALEXANDRE GALLI</td>\n",
              "      <td>ANALISTA DE TIC</td>\n",
              "      <td>PSA-C-CEDIDOS</td>\n",
              "      <td>1977-12-13</td>\n",
              "      <td>1947</td>\n",
              "      <td>52911.30</td>\n",
              "      <td>3790.54</td>\n",
              "      <td>6631.97</td>\n",
              "      <td>CLT: contrato por tempo indeterminado</td>\n",
              "      <td>Concursado NÃO ocupante de cargo em comissão</td>\n",
              "    </tr>\n",
              "  </tbody>\n",
              "</table>\n",
              "</div>"
            ],
            "text/plain": [
              "     EMPRESA  ...                               DETALHE VÍNCULO\n",
              "3190  PRODAM  ...  Concursado NÃO ocupante de cargo em comissão\n",
              "1550  PRODAM  ...  Não concursado ocupante de cargo em comissão\n",
              "657   PRODAM  ...  Concursado NÃO ocupante de cargo em comissão\n",
              "5223  PRODAM  ...  Não concursado ocupante de cargo em comissão\n",
              "1733  PRODAM  ...  Concursado NÃO ocupante de cargo em comissão\n",
              "4220  PRODAM  ...      Concursado ocupante de cargo em comissão\n",
              "512   PRODAM  ...  Não concursado ocupante de cargo em comissão\n",
              "4429  PRODAM  ...      Concursado ocupante de cargo em comissão\n",
              "3896  PRODAM  ...  Não concursado ocupante de cargo em comissão\n",
              "1021  PRODAM  ...  Concursado NÃO ocupante de cargo em comissão\n",
              "\n",
              "[10 rows x 13 columns]"
            ]
          },
          "metadata": {},
          "execution_count": 82
        }
      ]
    },
    {
      "cell_type": "code",
      "metadata": {
        "id": "8intGbINAJY8"
      },
      "source": [
        ""
      ],
      "execution_count": null,
      "outputs": []
    }
  ]
}